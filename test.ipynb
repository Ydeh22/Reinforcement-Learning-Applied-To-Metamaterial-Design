{
 "cells": [
  {
   "cell_type": "code",
   "execution_count": 1,
   "metadata": {},
   "outputs": [],
   "source": [
    "from tscsRL.environments.TSCSEnv import DiscreteTSCSEnv, ContinuousTSCSEnv\n",
    "from tscsRL.environments.GradientTSCSEnv import DiscreteGradientTSCSEnv, ContinuousGradientTSCSEnv\n",
    "from tscsRL.environments.RadiiTSCSEnv import DiscreteRadiiTSCSEnv, ContinuousRadiiTSCSEnv\n",
    "from tscsRL.agents import ddqn, ddpg\n",
    "from tscsRL import utils\n",
    "import imageio\n",
    "import torch"
   ]
  },
  {
   "cell_type": "code",
   "execution_count": 2,
   "metadata": {},
   "outputs": [],
   "source": [
    "name = 'ddqnRadii-3.1'\n",
    "path = 'results/' + name\n",
    "env_params = utils.jsonToDict(path + '/env_params.json')\n",
    "agent_params = utils.jsonToDict(path + '/agent_params.json')"
   ]
  },
  {
   "cell_type": "code",
   "execution_count": 3,
   "metadata": {},
   "outputs": [],
   "source": [
    "env = DiscreteRadiiTSCSEnv(\n",
    "    kMax=env_params['kMax'],\n",
    "    kMin=env_params['kMin'],\n",
    "    nFreq=env_params['nFreq'])\n",
    "\n",
    "agent = ddqn.DDQNAgent(\n",
    "    env.observation_space,\n",
    "    env.action_space,\n",
    "    agent_params,\n",
    "    name)\n",
    "agent.epsilon = 0.05"
   ]
  },
  {
   "cell_type": "code",
   "execution_count": 4,
   "metadata": {},
   "outputs": [],
   "source": [
    "agent.load_checkpoint(path + '/checkpoints/', 3400)"
   ]
  },
  {
   "cell_type": "code",
   "execution_count": 18,
   "metadata": {},
   "outputs": [
    {
     "name": "stdout",
     "output_type": "stream",
     "text": [
      "RESULTS:\n",
      "Initial radii: tensor([[0.8942, 0.4284, 0.8115, 0.2863, 0.9368, 0.5537, 0.6178, 0.6762, 0.9312]])\n",
      "Initial RMS: tensor([[8.4916]])\n",
      "Initial TSCS: tensor([[ 4.2936,  6.4494,  5.1902, 22.9228,  9.8103,  5.8792,  4.2756,  3.4130,\n",
      "          2.8839,  2.5353,  2.2960]])\n",
      "\n",
      "Min radii: tensor([[0.2942, 0.3084, 0.8915, 0.5663, 0.2568, 0.3137, 0.6178, 0.8762, 0.2912]])\n",
      "Min rms: tensor([[3.1147]])\n",
      "Min tscs: tensor([[5.4951, 2.8699, 1.3847, 5.9420, 3.3988, 2.5349, 2.0545, 1.7434, 1.5283,\n",
      "         1.3746, 1.2636]])\n"
     ]
    }
   ],
   "source": [
    "## Starting from a random config\n",
    "state = env.reset()\n",
    "## End starting from random config\n",
    "\n",
    "## Starting from a predefined config\n",
    "# env.config = torch.tensor([[ 4.9073,  0.9211,  2.3434, -4.5528,  2.6180,  4.6988, -2.3804,  1.6361]])\n",
    "# env.counter = torch.tensor([[0.0]])\n",
    "# env.setMetric(env.config)\n",
    "\n",
    "# env.info['initial'] = env.RMS.item()\n",
    "# env.info['lowest'] = env.info['initial']\n",
    "# env.info['final'] = None\n",
    "# env.info['score'] = 0\n",
    "# state = env.getState()\n",
    "## End starting from random config\n",
    "\n",
    "done = False\n",
    "\n",
    "results = {\n",
    "    'radii': [],\n",
    "    'rms': [],\n",
    "    'tscs': []}\n",
    "\n",
    "while not done:\n",
    "    results['radii'].append(env.radii)\n",
    "    results['rms'].append(env.RMS)\n",
    "    results['tscs'].append(env.TSCS)\n",
    "\n",
    "    action = agent.select_action(state)\n",
    "    nextState, reward, done, info = env.step(action)\n",
    "\n",
    "#     print(reward, done)\n",
    "    state = nextState\n",
    "\n",
    "## Initial stuff\n",
    "initialRadii = results['radii'][0]\n",
    "initialRMS = results['rms'][0]\n",
    "initialTSCS = results['tscs'][0]\n",
    "\n",
    "## Optimal stuff\n",
    "minIdx = results['rms'].index(min(results['rms']))\n",
    "optimalRadii = results['radii'][minIdx]\n",
    "optimalRMS = results['rms'][minIdx]\n",
    "optimalTSCS = results['tscs'][minIdx]\n",
    "\n",
    "print('RESULTS:')\n",
    "print(f'Initial radii: {initialRadii}')\n",
    "print(f'Initial RMS: {initialRMS}')\n",
    "print(f'Initial TSCS: {initialTSCS}')\n",
    "print()\n",
    "print(f'Min radii: {optimalRadii}')\n",
    "print(f'Min rms: {optimalRMS}')\n",
    "print(f'Min tscs: {optimalTSCS}')"
   ]
  },
  {
   "cell_type": "code",
   "execution_count": 16,
   "metadata": {},
   "outputs": [],
   "source": [
    "import matplotlib.pyplot as plt"
   ]
  },
  {
   "cell_type": "code",
   "execution_count": 19,
   "metadata": {},
   "outputs": [
    {
     "data": {
      "text/plain": [
       "<matplotlib.image.AxesImage at 0x1f6300565e0>"
      ]
     },
     "execution_count": 19,
     "metadata": {},
     "output_type": "execute_result"
    },
    {
     "data": {
      "image/png": "[encoded data removed]",
      "text/plain": [
       "<Figure size 432x288 with 1 Axes>"
      ]
     },
     "metadata": {
      "needs_background": "light"
     },
     "output_type": "display_data"
    }
   ],
   "source": [
    "plt.imshow(env.getIMG(optimalRadii).view(env.img_dim))"
   ]
  },
  {
   "cell_type": "code",
   "execution_count": null,
   "metadata": {},
   "outputs": [],
   "source": []
  }
 ],
 "metadata": {
  "kernelspec": {
   "display_name": "Python 3",
   "language": "python",
   "name": "python3"
  },
  "language_info": {
   "codemirror_mode": {
    "name": "ipython",
    "version": 3
   },
   "file_extension": ".py",
   "mimetype": "text/x-python",
   "name": "python",
   "nbconvert_exporter": "python",
   "pygments_lexer": "ipython3",
   "version": "3.8.5"
  }
 },
 "nbformat": 4,
 "nbformat_minor": 4
}
