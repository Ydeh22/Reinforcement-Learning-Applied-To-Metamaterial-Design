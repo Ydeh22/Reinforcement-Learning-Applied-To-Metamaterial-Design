{
 "cells": [
  {
   "cell_type": "code",
   "execution_count": 18,
   "metadata": {},
   "outputs": [],
   "source": [
    "from tscsRL.environments.TSCSEnv import DiscreteTSCSEnv, ContinuousTSCSEnv\n",
    "from tscsRL.environments.GradientTSCSEnv import DiscreteGradientTSCSEnv, ContinuousGradientTSCSEnv\n",
    "from tscsRL.agents import ddqn\n",
    "from tscsRL import utils\n",
    "import imageio\n",
    "import torch"
   ]
  },
  {
   "cell_type": "code",
   "execution_count": 19,
   "metadata": {},
   "outputs": [],
   "source": [
    "name = 'ddqnGradient4cyl0.45-0.35-8000decay'\n",
    "path = 'results/' + name\n",
    "env_params = utils.jsonToDict(path + '/env_params.json')\n",
    "agent_params = utils.jsonToDict(path + '/agent_params.json')"
   ]
  },
  {
   "cell_type": "code",
   "execution_count": 27,
   "metadata": {},
   "outputs": [],
   "source": [
    "env = DiscreteGradientTSCSEnv(\n",
    "    nCyl=env_params['nCyl'],\n",
    "    kMax=env_params['kMax'],\n",
    "    kMin=env_params['kMin'],\n",
    "    nFreq=env_params['nFreq'],\n",
    "    stepSize=env_params['stepSize'])\n",
    "\n",
    "agent = ddqn.DDQNAgent(\n",
    "    env.observation_space,\n",
    "    env.action_space,\n",
    "    agent_params,\n",
    "    name)\n",
    "agent.epsilon = 0.1"
   ]
  },
  {
   "cell_type": "code",
   "execution_count": 28,
   "metadata": {},
   "outputs": [],
   "source": [
    "agent.load_checkpoint(path + '/checkpoints/', 8000)"
   ]
  },
  {
   "cell_type": "code",
   "execution_count": 38,
   "metadata": {},
   "outputs": [
    {
     "name": "stdout",
     "output_type": "stream",
     "text": [
      "RESULTS:\n",
      "Initial config: tensor([[ 4.9073,  0.9211,  2.3434, -4.5528,  2.6180,  4.6988, -2.3804,  1.6361]])\n",
      "Initial RMS: tensor([[1.7649]])\n",
      "Initial TSCS: tensor([[0.8088, 0.9470, 1.1028, 1.2736, 1.4560, 1.6464, 1.8408, 2.0357, 2.2278,\n",
      "         2.4141, 2.5926]])\n",
      "\n",
      "Min config: tensor([[ 0.4073,  3.9211,  0.3434, -3.0528, -2.8820,  3.6988, -3.3804, -2.8639]])\n",
      "Min rms: tensor([[0.3910]])\n",
      "Min tscs: tensor([[0.4567, 0.4184, 0.3837, 0.3551, 0.3350, 0.3257, 0.3290, 0.3466, 0.3800,\n",
      "         0.4302, 0.4982]])\n"
     ]
    }
   ],
   "source": [
    "## Starting from a random config\n",
    "# state = env.reset()\n",
    "## End starting from random config\n",
    "\n",
    "## Starting from a predefined config\n",
    "env.config = torch.tensor([[ 4.9073,  0.9211,  2.3434, -4.5528,  2.6180,  4.6988, -2.3804,  1.6361]])\n",
    "env.counter = torch.tensor([[0.0]])\n",
    "env.setMetric(env.config)\n",
    "\n",
    "env.info['initial'] = env.RMS.item()\n",
    "env.info['lowest'] = env.info['initial']\n",
    "env.info['final'] = None\n",
    "env.info['score'] = 0\n",
    "state = env.getState()\n",
    "## End starting from random config\n",
    "\n",
    "done = False\n",
    "\n",
    "results = {\n",
    "    'config': [],\n",
    "    'rms': [],\n",
    "    'tscs': []}\n",
    "\n",
    "while not done:\n",
    "    results['config'].append(env.config)\n",
    "    results['rms'].append(env.RMS)\n",
    "    results['tscs'].append(env.TSCS)\n",
    "\n",
    "    action = agent.select_action(state)\n",
    "    nextState, reward, done, info = env.step(action)\n",
    "\n",
    "#     print(reward, done)\n",
    "    state = nextState\n",
    "\n",
    "## Initial stuff\n",
    "initialConfig = results['config'][0]\n",
    "initialRMS = results['rms'][0]\n",
    "initialTSCS = results['tscs'][0]\n",
    "\n",
    "## Optimal stuff\n",
    "minIdx = results['rms'].index(min(results['rms']))\n",
    "optimalConfig = results['config'][minIdx]\n",
    "optimalRMS = results['rms'][minIdx]\n",
    "optimalTSCS = results['tscs'][minIdx]\n",
    "\n",
    "print('RESULTS:')\n",
    "print(f'Initial config: {initialConfig}')\n",
    "print(f'Initial RMS: {initialRMS}')\n",
    "print(f'Initial TSCS: {initialTSCS}')\n",
    "print()\n",
    "print(f'Min config: {optimalConfig}')\n",
    "print(f'Min rms: {optimalRMS}')\n",
    "print(f'Min tscs: {optimalTSCS}')"
   ]
  },
  {
   "cell_type": "code",
   "execution_count": null,
   "metadata": {},
   "outputs": [],
   "source": []
  }
 ],
 "metadata": {
  "kernelspec": {
   "display_name": "Python 3",
   "language": "python",
   "name": "python3"
  },
  "language_info": {
   "codemirror_mode": {
    "name": "ipython",
    "version": 3
   },
   "file_extension": ".py",
   "mimetype": "text/x-python",
   "name": "python",
   "nbconvert_exporter": "python",
   "pygments_lexer": "ipython3",
   "version": "3.8.5"
  }
 },
 "nbformat": 4,
 "nbformat_minor": 4
}
