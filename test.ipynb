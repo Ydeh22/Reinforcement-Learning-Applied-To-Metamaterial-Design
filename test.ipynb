{
 "cells": [
  {
   "cell_type": "code",
   "execution_count": 1,
   "metadata": {},
   "outputs": [],
   "source": [
    "from tscsRL.environments.TSCSEnv import DiscreteTSCSEnv, ContinuousTSCSEnv\n",
    "from tscsRL.environments.GradientTSCSEnv import DiscreteGradientTSCSEnv, ContinuousGradientTSCSEnv\n",
    "from tscsRL.environments.RadiiTSCSEnv import DiscreteRadiiTSCSEnv, ContinuousRadiiTSCSEnv\n",
    "from tscsRL.agents import ddqn, ddpg\n",
    "from tscsRL import utils\n",
    "import imageio\n",
    "import torch"
   ]
  },
  {
   "cell_type": "code",
   "execution_count": 2,
   "metadata": {},
   "outputs": [],
   "source": [
    "name = 'ddqnRadii-test'\n",
    "path = 'results/' + name\n",
    "env_params = utils.jsonToDict(path + '/env_params.json')\n",
    "agent_params = utils.jsonToDict(path + '/agent_params.json')"
   ]
  },
  {
   "cell_type": "code",
   "execution_count": 9,
   "metadata": {},
   "outputs": [],
   "source": [
    "env = DiscreteRadiiTSCSEnv(\n",
    "    kMax=env_params['kMax'],\n",
    "    kMin=env_params['kMin'],\n",
    "    nFreq=env_params['nFreq'])\n",
    "\n",
    "agent = ddqn.DDQNAgent(\n",
    "    env.observation_space,\n",
    "    env.action_space,\n",
    "    agent_params,\n",
    "    name)\n",
    "agent.epsilon = 0.05"
   ]
  },
  {
   "cell_type": "code",
   "execution_count": 10,
   "metadata": {},
   "outputs": [],
   "source": [
    "agent.load_checkpoint(path + '/checkpoints/', 3400)"
   ]
  },
  {
   "cell_type": "code",
   "execution_count": 12,
   "metadata": {},
   "outputs": [
    {
     "name": "stdout",
     "output_type": "stream",
     "text": [
      "RESULTS:\n",
      "Initial config: tensor([[ 3.5000,  0.0000],\n",
      "        [ 2.6812,  2.2498],\n",
      "        [ 0.6078,  3.4468],\n",
      "        [-1.7500,  3.0311],\n",
      "        [-3.2889,  1.1971],\n",
      "        [-3.2889, -1.1971],\n",
      "        [-1.7500, -3.0311],\n",
      "        [ 0.6078, -3.4468],\n",
      "        [ 2.6812, -2.2498]], dtype=torch.float64)\n",
      "Initial RMS: tensor([[11.5263]])\n",
      "Initial TSCS: tensor([[ 4.3174,  5.9410, 34.2762, 12.0271,  6.3756,  4.2726,  3.2210,  2.6081,\n",
      "          2.2180,  1.9561,  1.7744]])\n",
      "\n",
      "Min config: tensor([[ 3.5000,  0.0000],\n",
      "        [ 2.6812,  2.2498],\n",
      "        [ 0.6078,  3.4468],\n",
      "        [-1.7500,  3.0311],\n",
      "        [-3.2889,  1.1971],\n",
      "        [-3.2889, -1.1971],\n",
      "        [-1.7500, -3.0311],\n",
      "        [ 0.6078, -3.4468],\n",
      "        [ 2.6812, -2.2498]], dtype=torch.float64)\n",
      "Min rms: tensor([[4.2483]])\n",
      "Min tscs: tensor([[ 2.1084,  2.4444, 11.9761,  4.7053,  2.9824,  2.1895,  1.7325,  1.4400,\n",
      "          1.2421,  1.1042,  1.0070]])\n"
     ]
    }
   ],
   "source": [
    "## Starting from a random config\n",
    "state = env.reset()\n",
    "## End starting from random config\n",
    "\n",
    "## Starting from a predefined config\n",
    "# env.config = torch.tensor([[ 4.9073,  0.9211,  2.3434, -4.5528,  2.6180,  4.6988, -2.3804,  1.6361]])\n",
    "# env.counter = torch.tensor([[0.0]])\n",
    "# env.setMetric(env.config)\n",
    "\n",
    "env.info['initial'] = env.RMS.item()\n",
    "env.info['lowest'] = env.info['initial']\n",
    "env.info['final'] = None\n",
    "env.info['score'] = 0\n",
    "state = env.getState()\n",
    "## End starting from random config\n",
    "\n",
    "done = False\n",
    "\n",
    "results = {\n",
    "    'config': [],\n",
    "    'rms': [],\n",
    "    'tscs': []}\n",
    "\n",
    "while not done:\n",
    "    results['config'].append(env.config)\n",
    "    results['rms'].append(env.RMS)\n",
    "    results['tscs'].append(env.TSCS)\n",
    "\n",
    "    action = agent.select_action(state)\n",
    "    nextState, reward, done, info = env.step(action)\n",
    "\n",
    "#     print(reward, done)\n",
    "    state = nextState\n",
    "\n",
    "## Initial stuff\n",
    "initialConfig = results['config'][0]\n",
    "initialRMS = results['rms'][0]\n",
    "initialTSCS = results['tscs'][0]\n",
    "\n",
    "## Optimal stuff\n",
    "minIdx = results['rms'].index(min(results['rms']))\n",
    "optimalConfig = results['config'][minIdx]\n",
    "optimalRMS = results['rms'][minIdx]\n",
    "optimalTSCS = results['tscs'][minIdx]\n",
    "\n",
    "print('RESULTS:')\n",
    "print(f'Initial config: {initialConfig}')\n",
    "print(f'Initial RMS: {initialRMS}')\n",
    "print(f'Initial TSCS: {initialTSCS}')\n",
    "print()\n",
    "print(f'Min config: {optimalConfig}')\n",
    "print(f'Min rms: {optimalRMS}')\n",
    "print(f'Min tscs: {optimalTSCS}')"
   ]
  },
  {
   "cell_type": "code",
   "execution_count": null,
   "metadata": {},
   "outputs": [],
   "source": []
  }
 ],
 "metadata": {
  "kernelspec": {
   "display_name": "Python 3",
   "language": "python",
   "name": "python3"
  },
  "language_info": {
   "codemirror_mode": {
    "name": "ipython",
    "version": 3
   },
   "file_extension": ".py",
   "mimetype": "text/x-python",
   "name": "python",
   "nbconvert_exporter": "python",
   "pygments_lexer": "ipython3",
   "version": "3.8.5"
  }
 },
 "nbformat": 4,
 "nbformat_minor": 4
}
