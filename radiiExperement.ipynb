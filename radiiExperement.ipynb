{
 "cells": [
  {
   "cell_type": "code",
   "execution_count": null,
   "metadata": {},
   "outputs": [],
   "source": [
    "from tscsRL.agents import ddpg, ddqn\n",
    "from tscsRL.environments.RadiiTSCSEnv import ContinuousRadiiTSCSEnv, DiscreteRadiiTSCSEnv"
   ]
  },
  {
   "cell_type": "code",
   "execution_count": null,
   "metadata": {},
   "outputs": [],
   "source": [
    "env = DiscreteRadiiTSCSEnv(\n",
    "    kMax=0.45,\n",
    "    kMin=0.35,\n",
    "    nFreq=11)"
   ]
  },
  {
   "cell_type": "code",
   "execution_count": null,
   "metadata": {},
   "outputs": [],
   "source": [
    "params = ddqn.default_params()\n",
    "params['batch_size'] = 256\n",
    "params['save_every'] = 200\n",
    "params['decay_timesteps'] = 3000\n",
    "params['num_episodes'] = 3500\n",
    "params['use_wandb'] = True"
   ]
  },
  {
   "cell_type": "code",
   "execution_count": null,
   "metadata": {},
   "outputs": [],
   "source": [
    "params"
   ]
  },
  {
   "cell_type": "code",
   "execution_count": null,
   "metadata": {},
   "outputs": [],
   "source": [
    "name = 'ddqnRadii-3.1'\n",
    "\n",
    "agent = ddqn.DDQNAgent(\n",
    "    env.observation_space,\n",
    "    env.action_space,\n",
    "    params,\n",
    "    name)"
   ]
  },
  {
   "cell_type": "code",
   "execution_count": null,
   "metadata": {},
   "outputs": [],
   "source": [
    "agent.learn(env)"
   ]
  },
  {
   "cell_type": "code",
   "execution_count": 1,
   "metadata": {},
   "outputs": [],
   "source": [
    "from tscsRL.environments.MaterialTSCSEnv import DiscreteMaterialTSCSEnv\n",
    "import matplotlib.pyplot as plt"
   ]
  },
  {
   "cell_type": "code",
   "execution_count": 114,
   "metadata": {},
   "outputs": [],
   "source": [
    "env = DiscreteMaterialTSCSEnv(0.45, 0.35, 100, 'rho_sh')"
   ]
  },
  {
   "cell_type": "code",
   "execution_count": 115,
   "metadata": {},
   "outputs": [
    {
     "data": {
      "text/plain": [
       "<matplotlib.image.AxesImage at 0x1ccff4db160>"
      ]
     },
     "execution_count": 115,
     "metadata": {},
     "output_type": "execute_result"
    },
    {
     "data": {
      "image/png": "[encoded data removed]",
      "text/plain": [
       "<Figure size 432x288 with 1 Axes>"
      ]
     },
     "metadata": {
      "needs_background": "light"
     },
     "output_type": "display_data"
    }
   ],
   "source": [
    "env.reset()\n",
    "env.all_config[4, 0] -= 1.0\n",
    "env.all_config[4, 1] += 2.0\n",
    "env.all_config[5, 0] -= 1.0\n",
    "env.all_config[5, 1] -= 2.0\n",
    "img = env.getIMG(env.rho_shv, env.c_pv)\n",
    "plt.imshow(img)"
   ]
  },
  {
   "cell_type": "code",
   "execution_count": 116,
   "metadata": {},
   "outputs": [
    {
     "data": {
      "text/plain": [
       "tensor([[ 3.1000,  0.0000],\n",
       "        [ 2.3747,  1.9926],\n",
       "        [ 0.5383,  3.0529],\n",
       "        [-1.5500,  2.6847],\n",
       "        [-3.9130,  3.0603],\n",
       "        [-3.9130, -3.0603],\n",
       "        [-1.5500, -2.6847],\n",
       "        [ 0.5383, -3.0529],\n",
       "        [ 2.3747, -1.9926],\n",
       "        [ 0.0000,  0.0000]], dtype=torch.float64)"
      ]
     },
     "execution_count": 116,
     "metadata": {},
     "output_type": "execute_result"
    }
   ],
   "source": [
    "env.all_config"
   ]
  },
  {
   "cell_type": "code",
   "execution_count": 117,
   "metadata": {},
   "outputs": [
    {
     "data": {
      "text/plain": [
       "tensor([[0.7000, 0.7000, 0.7000, 0.7000, 0.7000, 0.7000, 0.7000, 0.7000, 0.7000,\n",
       "         1.6000]])"
      ]
     },
     "execution_count": 117,
     "metadata": {},
     "output_type": "execute_result"
    }
   ],
   "source": [
    "env.all_radii"
   ]
  },
  {
   "cell_type": "code",
   "execution_count": 118,
   "metadata": {},
   "outputs": [
    {
     "data": {
      "text/plain": [
       "tensor([[4686.6816, 7765.6821, 7701.3311, 2565.1611, 6468.3569, 8580.5352,\n",
       "         7406.0723, 4978.6777, 2029.9135]])"
      ]
     },
     "execution_count": 118,
     "metadata": {},
     "output_type": "execute_result"
    }
   ],
   "source": [
    "env.rho_shv"
   ]
  },
  {
   "cell_type": "code",
   "execution_count": 119,
   "metadata": {},
   "outputs": [
    {
     "data": {
      "text/plain": [
       "tensor([[5480., 5480., 5480., 5480., 5480., 5480., 5480., 5480., 5480.]])"
      ]
     },
     "execution_count": 119,
     "metadata": {},
     "output_type": "execute_result"
    }
   ],
   "source": [
    "env.c_pv"
   ]
  },
  {
   "cell_type": "code",
   "execution_count": 120,
   "metadata": {},
   "outputs": [
    {
     "data": {
      "text/plain": [
       "tensor([[ 2.1166,  1.9646,  1.8182,  1.6776,  1.5436,  1.4172,  1.3003,  1.1956,\n",
       "          1.1069,  1.0402,  1.0038,  1.0106,  1.0793,  1.2389,  1.5334,  2.0308,\n",
       "          2.8364,  4.1108,  6.0882,  9.0720, 13.3558, 19.0146, 25.6060, 31.6027,\n",
       "         33.9566, 31.6177, 27.2488, 23.0275, 19.5723, 16.8627, 14.7441, 13.0704,\n",
       "         11.7291, 10.6378,  9.7368,  8.9830,  8.3446,  7.7979,  7.3250,  6.9123,\n",
       "          6.5492,  6.2274,  5.9403,  5.6826,  5.4500,  5.2390,  5.0467,  4.8708,\n",
       "          4.7091,  4.5601,  4.4223,  4.2944,  4.1755,  4.0645,  3.9607,  3.8635,\n",
       "          3.7722,  3.6863,  3.6053,  3.5288,  3.4564,  3.3879,  3.3229,  3.2611,\n",
       "          3.2024,  3.1465,  3.0932,  3.0423,  2.9938,  2.9473,  2.9029,  2.8603,\n",
       "          2.8195,  2.7804,  2.7428,  2.7067,  2.6721,  2.6387,  2.6066,  2.5757,\n",
       "          2.5460,  2.5173,  2.4897,  2.4630,  2.4372,  2.4124,  2.3884,  2.3652,\n",
       "          2.3428,  2.3211,  2.3001,  2.2799,  2.2603,  2.2413,  2.2229,  2.2051,\n",
       "          2.1879,  2.1712,  2.1550,  2.1393]])"
      ]
     },
     "execution_count": 120,
     "metadata": {},
     "output_type": "execute_result"
    }
   ],
   "source": [
    "env.TSCS"
   ]
  },
  {
   "cell_type": "code",
   "execution_count": 121,
   "metadata": {},
   "outputs": [
    {
     "data": {
      "text/plain": [
       "tensor([[9.0842]])"
      ]
     },
     "execution_count": 121,
     "metadata": {},
     "output_type": "execute_result"
    }
   ],
   "source": [
    "env.RMS"
   ]
  },
  {
   "cell_type": "code",
   "execution_count": 122,
   "metadata": {},
   "outputs": [
    {
     "data": {
      "text/plain": [
       "[<matplotlib.lines.Line2D at 0x1ccff531e20>]"
      ]
     },
     "execution_count": 122,
     "metadata": {},
     "output_type": "execute_result"
    },
    {
     "data": {
      "image/png": "[encoded data removed]",
      "text/plain": [
       "<Figure size 432x288 with 1 Axes>"
      ]
     },
     "metadata": {
      "needs_background": "light"
     },
     "output_type": "display_data"
    }
   ],
   "source": [
    "plt.plot(env.TSCS[0])"
   ]
  },
  {
   "cell_type": "code",
   "execution_count": 110,
   "metadata": {},
   "outputs": [
    {
     "data": {
      "text/plain": [
       "tensor([[8850.]])"
      ]
     },
     "execution_count": 110,
     "metadata": {},
     "output_type": "execute_result"
    }
   ],
   "source": [
    "env.center_rho_sh"
   ]
  },
  {
   "cell_type": "code",
   "execution_count": 111,
   "metadata": {},
   "outputs": [
    {
     "data": {
      "text/plain": [
       "tensor([[5480.]])"
      ]
     },
     "execution_count": 111,
     "metadata": {},
     "output_type": "execute_result"
    }
   ],
   "source": [
    "env.center_c_p"
   ]
  },
  {
   "cell_type": "code",
   "execution_count": null,
   "metadata": {},
   "outputs": [],
   "source": []
  }
 ],
 "metadata": {
  "kernelspec": {
   "display_name": "Python 3",
   "language": "python",
   "name": "python3"
  },
  "language_info": {
   "codemirror_mode": {
    "name": "ipython",
    "version": 3
   },
   "file_extension": ".py",
   "mimetype": "text/x-python",
   "name": "python",
   "nbconvert_exporter": "python",
   "pygments_lexer": "ipython3",
   "version": "3.8.5"
  }
 },
 "nbformat": 4,
 "nbformat_minor": 4
}
