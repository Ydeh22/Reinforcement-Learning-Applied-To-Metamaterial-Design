{
 "cells": [
  {
   "cell_type": "code",
   "execution_count": 24,
   "metadata": {},
   "outputs": [],
   "source": [
    "import ray\n",
    "from env import DistributedTSCSEnv\n",
    "from models import Actor\n",
    "import torch\n",
    "import time"
   ]
  },
  {
   "cell_type": "code",
   "execution_count": 27,
   "metadata": {},
   "outputs": [
    {
     "name": "stderr",
     "output_type": "stream",
     "text": [
      "2020-11-04 22:35:17,468\tINFO services.py:1164 -- View the Ray dashboard at \u001b[1m\u001b[32mhttp://127.0.0.1:8265\u001b[39m\u001b[22m\n"
     ]
    }
   ],
   "source": [
    "config = {\n",
    "    'nCyl':4,\n",
    "    'k0amax':0.5,\n",
    "    'k0amin':0.3,\n",
    "    'nFreq':11,\n",
    "    'actionRange':0.2,\n",
    "    'episodeLength':100}\n",
    "\n",
    "env = DistributedTSCSEnv(config, workers=11)"
   ]
  },
  {
   "cell_type": "code",
   "execution_count": 28,
   "metadata": {},
   "outputs": [],
   "source": [
    "actor = Actor(21, 8, [128] * 2, config['actionRange'])"
   ]
  },
  {
   "cell_type": "code",
   "execution_count": 35,
   "metadata": {},
   "outputs": [
    {
     "name": "stdout",
     "output_type": "stream",
     "text": [
      "8.012475967407227\n"
     ]
    }
   ],
   "source": [
    "start = time.time()\n",
    "done = False\n",
    "state = env.reset()\n",
    "while not done:\n",
    "    with torch.no_grad():\n",
    "        action = actor(torch.tensor(state).float())\n",
    "    state, reward, done, info = env.step(action)\n",
    "    done = done[0]\n",
    "\n",
    "print(time.time() - start)"
   ]
  },
  {
   "cell_type": "code",
   "execution_count": 36,
   "metadata": {},
   "outputs": [
    {
     "data": {
      "text/plain": [
       "({'lowest': 1.2407511526421948, 'numIllegalMoves': 86},\n",
       " {'lowest': 4.235540358967564, 'numIllegalMoves': 97},\n",
       " {'lowest': 1.8423443096479262, 'numIllegalMoves': 98},\n",
       " {'lowest': 0.9371619990878448, 'numIllegalMoves': 82},\n",
       " {'lowest': 1.6344144848868032, 'numIllegalMoves': 97},\n",
       " {'lowest': 2.444973764306448, 'numIllegalMoves': 92},\n",
       " {'lowest': 4.346980130234044, 'numIllegalMoves': 99},\n",
       " {'lowest': 2.9730833919832476, 'numIllegalMoves': 99},\n",
       " {'lowest': 1.1280959041741492, 'numIllegalMoves': 66},\n",
       " {'lowest': 1.4373777144420794, 'numIllegalMoves': 45},\n",
       " {'lowest': 1.308020970395432, 'numIllegalMoves': 50})"
      ]
     },
     "execution_count": 36,
     "metadata": {},
     "output_type": "execute_result"
    }
   ],
   "source": [
    "info"
   ]
  },
  {
   "cell_type": "code",
   "execution_count": 26,
   "metadata": {},
   "outputs": [],
   "source": [
    "ray.shutdown()"
   ]
  },
  {
   "cell_type": "code",
   "execution_count": null,
   "metadata": {},
   "outputs": [],
   "source": []
  }
 ],
 "metadata": {
  "kernelspec": {
   "display_name": "Python 3",
   "language": "python",
   "name": "python3"
  },
  "language_info": {
   "codemirror_mode": {
    "name": "ipython",
    "version": 3
   },
   "file_extension": ".py",
   "mimetype": "text/x-python",
   "name": "python",
   "nbconvert_exporter": "python",
   "pygments_lexer": "ipython3",
   "version": "3.8.5"
  }
 },
 "nbformat": 4,
 "nbformat_minor": 4
}
