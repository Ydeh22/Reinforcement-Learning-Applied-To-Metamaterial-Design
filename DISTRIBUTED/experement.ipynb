{
 "cells": [
  {
   "cell_type": "code",
   "execution_count": 8,
   "metadata": {},
   "outputs": [],
   "source": [
    "import gym\n",
    "from gym.spaces import Box\n",
    "import numpy as np\n",
    "import matlab\n",
    "import matlab.engine\n",
    "import ray\n",
    "\n",
    "@ray.remote\n",
    "class DistributedTSCSEnv(gym.Env):\n",
    "    def __init__(self, config):\n",
    "        ## Initialize matlab\n",
    "        self.eng = matlab.engine.start_matlab()\n",
    "        self.eng.addpath('../DDPG/TSCS')\n",
    "\n",
    "        ## Env hyperparameters\n",
    "        self.nCyl = config['nCyl']\n",
    "        self.nFreq = config['nFreq']\n",
    "        self.M = matlab.double([self.nCyl])\n",
    "        self.k0amax = matlab.double([config['k0amax']])\n",
    "        self.k0amin = matlab.double([config['k0amin']])\n",
    "        self.F = matlab.double([self.nFreq])\n",
    "        self.actionRange = config['actionRange']\n",
    "        self.episodeLength = config['episodeLength']\n",
    "\n",
    "        ## State variables\n",
    "        self.config = None\n",
    "        self.TSCS = None\n",
    "        self.RMS = None\n",
    "        self.timestep = None\n",
    "        self.lowest = None\n",
    "\n",
    "        ## Observation and action space\n",
    "        self.observation_space = Box(\n",
    "            low=-100.,\n",
    "            high=100.,\n",
    "            ## Number of cylinders + number of wavenumbers + 2 additional variables (rms, timestep)\n",
    "            shape=((1, self.nCyl * 2 + self.nFreq + 2)))\n",
    "\n",
    "        self.action_space = Box(\n",
    "            low=-self.actionRange,\n",
    "            high=self.actionRange,\n",
    "            shape=(int(self.nCyl * 2),))\n",
    "\n",
    "    def validConfig(self, config):\n",
    "        \"\"\"\n",
    "        Checks if config is within bounds and does not overlap cylinders\n",
    "        \"\"\"\n",
    "        withinBounds = False\n",
    "        overlap = False\n",
    "        if (-5 < config).all() and (config < 5).all():\n",
    "            withinBounds = True\n",
    "\n",
    "            coords = config.reshape(self.nCyl, 2)\n",
    "            for i in range(self.nCyl):\n",
    "                for j in range(self.nCyl):\n",
    "                    if i != j:\n",
    "                        x1, y1 = coords[i]\n",
    "                        x2, y2 = coords[j]\n",
    "                        d = np.sqrt((x2-x1)**2 + (y2-y1)**2)\n",
    "                        if d <= 2.1:\n",
    "                            overlap = True\n",
    "        return withinBounds and not overlap\n",
    "\n",
    "    def getConfig(self):\n",
    "        \"\"\"\n",
    "        Generates a configuration which is within bounds \n",
    "        and not overlaping cylinders\n",
    "        \"\"\"\n",
    "        while True:\n",
    "            config = np.random.uniform(-5., 5., (1, self.nCyl * 2))\n",
    "            if self.validConfig(config):\n",
    "                break\n",
    "        return config\n",
    "\n",
    "    def getMetric(self, config):\n",
    "        \"\"\"\n",
    "        This calculates total cross secitonal scattering across nFreq wavenumbers\n",
    "        from k0amax to k0amin. Also calculates RMS of these wavenumbers.\n",
    "        \"\"\"\n",
    "        # x = self.eng.transpose(matlab.double(*self.config.reshape(self.nCyl * 2)))\n",
    "        x = self.eng.transpose(matlab.double(*config.tolist()))\n",
    "        tscs = self.eng.getMetric(x, self.M, self.k0amax, self.k0amin, self.F)\n",
    "        tscs = np.array(tscs).T\n",
    "        rms = np.sqrt(np.power(tscs, 2).mean()).reshape(1, 1)\n",
    "        return tscs, rms\n",
    "\n",
    "    def reset(self):\n",
    "        \"\"\"\n",
    "        Generates starting config and calculates its tscs\n",
    "        \"\"\"\n",
    "        self.config = self.getConfig()\n",
    "        self.TSCS, self.RMS = self.getMetric(self.config)\n",
    "        self.timestep = np.array([[0.0]])\n",
    "        self.lowest = np.asscalar(self.RMS)\n",
    "        state = np.concatenate((self.config, self.TSCS, self.RMS, self.timestep), axis=-1)\n",
    "        return state\n",
    "\n",
    "    def getReward(self, RMS, isValid):\n",
    "        \"\"\"\n",
    "        Computes reward based on change in scattering \n",
    "        proporitional to how close it is to zero\n",
    "        \"\"\"\n",
    "        reward = -np.sqrt(RMS).item()\n",
    "        if not isValid:\n",
    "            reward += -1.0\n",
    "        return reward\n",
    "\n",
    "    def step(self, action):\n",
    "        \"\"\"\n",
    "        If the config after applying the action is not valid\n",
    "        we revert back to previous state and give negative reward\n",
    "        otherwise, reward is calculated by a function on the next scattering.\n",
    "        \"\"\"\n",
    "        nextConfig = self.config.copy() + action\n",
    "\n",
    "        valid = False\n",
    "        if self.validConfig(nextConfig):\n",
    "            self.config = nextConfig\n",
    "            valid = True\n",
    "\n",
    "        self.TSCS, self.RMS = self.getMetric(self.config)\n",
    "        reward = self.getReward(self.RMS, valid)\n",
    "        self.timestep += 1/self.episodeLength\n",
    "\n",
    "        if self.RMS < self.lowest:\n",
    "            self.lowest = self.RMS.item()\n",
    "\n",
    "        done = False\n",
    "        if int(self.timestep) == 1:\n",
    "            done = True\n",
    "\n",
    "        info = {\n",
    "            'meanTSCS':self.TSCS.mean(),\n",
    "            'rms':self.RMS,\n",
    "            'lowest':self.lowest}\n",
    "\n",
    "        state = np.concatenate((self.config, self.TSCS, self.RMS, self.timestep), axis=-1)\n",
    "        return state, reward, done, info\n",
    "    \n",
    "    def rollout_episode(self):\n",
    "        data = {\n",
    "            'states': np.ndarray(shape=(self.episodeLength, self.observation_space.shape[1])),\n",
    "            'actions': np.ndarray(shape=(self.episodeLength, self.action_space.shape[0])),\n",
    "            'rewards': np.ndarray(shape=(self.episodeLength, 1)),\n",
    "            'next_states': np.ndarray(shape=(self.episodeLength, self.observation_space.shape[1])),\n",
    "            'dones': np.ndarray(shape=(self.episodeLength, 1))}\n",
    "\n",
    "        state = self.reset()\n",
    "        done = False\n",
    "        idx = 0\n",
    "        while not done:\n",
    "            action = self.action_space.sample()\n",
    "            next_state, reward, done, info = self.step(action)\n",
    "\n",
    "            data['states'][idx] = state\n",
    "            data['actions'][idx] = action\n",
    "            data['rewards'][idx] = reward\n",
    "            data['next_states'][idx] = next_state\n",
    "            data['dones'][idx] = done\n",
    "            idx += 1\n",
    "        return data"
   ]
  },
  {
   "cell_type": "code",
   "execution_count": 23,
   "metadata": {},
   "outputs": [],
   "source": [
    "# from env import DistributedTSCSEnv\n",
    "import ray\n",
    "import torch\n",
    "import numpy as np\n",
    "import time"
   ]
  },
  {
   "cell_type": "code",
   "execution_count": 10,
   "metadata": {},
   "outputs": [
    {
     "name": "stderr",
     "output_type": "stream",
     "text": [
      "2020-10-31 00:25:24,367\tINFO services.py:1164 -- View the Ray dashboard at \u001b[1m\u001b[32mhttp://127.0.0.1:8265\u001b[39m\u001b[22m\n"
     ]
    },
    {
     "data": {
      "text/plain": [
       "{'node_ip_address': '10.0.0.12',\n",
       " 'raylet_ip_address': '10.0.0.12',\n",
       " 'redis_address': '10.0.0.12:6379',\n",
       " 'object_store_address': '/tmp/ray/session_2020-10-31_00-25-23_139231_3070/sockets/plasma_store',\n",
       " 'raylet_socket_name': '/tmp/ray/session_2020-10-31_00-25-23_139231_3070/sockets/raylet',\n",
       " 'webui_url': '127.0.0.1:8265',\n",
       " 'session_dir': '/tmp/ray/session_2020-10-31_00-25-23_139231_3070',\n",
       " 'metrics_export_port': 64357}"
      ]
     },
     "execution_count": 10,
     "metadata": {},
     "output_type": "execute_result"
    }
   ],
   "source": [
    "ray.init()"
   ]
  },
  {
   "cell_type": "code",
   "execution_count": 70,
   "metadata": {},
   "outputs": [],
   "source": [
    "config = {\n",
    "    'nCyl': 4,\n",
    "    'k0amax': 0.45,\n",
    "    'k0amin': 0.35,\n",
    "    'nFreq': 11,\n",
    "    'actionRange': 0.2,\n",
    "    'episodeLength': 100}\n",
    "\n",
    "envs = [DistributedTSCSEnv.remote(config) for i in range(5)]"
   ]
  },
  {
   "cell_type": "code",
   "execution_count": 73,
   "metadata": {},
   "outputs": [],
   "source": [
    "futures = [env.rollout_episode.remote() for env in envs]"
   ]
  },
  {
   "cell_type": "code",
   "execution_count": 74,
   "metadata": {},
   "outputs": [
    {
     "data": {
      "text/plain": [
       "3.653256416320801"
      ]
     },
     "execution_count": 74,
     "metadata": {},
     "output_type": "execute_result"
    }
   ],
   "source": [
    "start = time.time()\n",
    "data = ray.get(futures)\n",
    "time.time() - start"
   ]
  },
  {
   "cell_type": "code",
   "execution_count": 76,
   "metadata": {},
   "outputs": [
    {
     "name": "stdout",
     "output_type": "stream",
     "text": [
      "3.8919758796691895\n",
      "3.911433458328247\n",
      "3.9060847759246826\n",
      "4.022394180297852\n",
      "4.050745487213135\n",
      "3.936521053314209\n",
      "3.9807753562927246\n",
      "4.032641649246216\n",
      "3.955822467803955\n",
      "3.963179588317871\n"
     ]
    }
   ],
   "source": [
    "for i in range(10):\n",
    "    futures = [env.rollout_episode.remote() for env in envs]\n",
    "    start = time.time()\n",
    "    data = ray.get(futures)\n",
    "    print(time.time() - start)"
   ]
  },
  {
   "cell_type": "code",
   "execution_count": 77,
   "metadata": {},
   "outputs": [],
   "source": [
    "env = DistributedTSCSEnv.remote(config)"
   ]
  },
  {
   "cell_type": "code",
   "execution_count": 80,
   "metadata": {},
   "outputs": [],
   "source": [
    "futures = env.rollout_episode.remote()"
   ]
  },
  {
   "cell_type": "code",
   "execution_count": 81,
   "metadata": {},
   "outputs": [
    {
     "data": {
      "text/plain": [
       "3.4818291664123535"
      ]
     },
     "execution_count": 81,
     "metadata": {},
     "output_type": "execute_result"
    }
   ],
   "source": [
    "start = time.time()\n",
    "future = ray.get(futures)\n",
    "time.time() - start"
   ]
  },
  {
   "cell_type": "code",
   "execution_count": 83,
   "metadata": {},
   "outputs": [],
   "source": [
    "import time"
   ]
  },
  {
   "cell_type": "code",
   "execution_count": 7,
   "metadata": {},
   "outputs": [
    {
     "ename": "RayTaskError(AttributeError)",
     "evalue": "\u001b[36mray::rollout_episode()\u001b[39m (pid=23772, ip=10.0.0.12)\n  File \"python/ray/_raylet.pyx\", line 484, in ray._raylet.execute_task\n  File \"<ipython-input-5-10e25df8a31e>\", line 4, in rollout_episode\n  File \"/home/tristan/anaconda3/envs/TSCSProject/lib/python3.8/site-packages/ray/actor.py\", line 804, in __getattr__\n    raise AttributeError(f\"'{type(self).__name__}' object has \"\nAttributeError: 'ActorHandle' object has no attribute 'episodeLength'",
     "output_type": "error",
     "traceback": [
      "\u001b[0;31m---------------------------------------------------------------------------\u001b[0m",
      "\u001b[0;31mRayTaskError(AttributeError)\u001b[0m              Traceback (most recent call last)",
      "\u001b[0;32m<ipython-input-7-fce70005c803>\u001b[0m in \u001b[0;36m<module>\u001b[0;34m\u001b[0m\n\u001b[1;32m      5\u001b[0m \u001b[0mtime\u001b[0m\u001b[0;34m.\u001b[0m\u001b[0mtime\u001b[0m\u001b[0;34m(\u001b[0m\u001b[0;34m)\u001b[0m \u001b[0;34m-\u001b[0m \u001b[0mstart_time\u001b[0m\u001b[0;34m\u001b[0m\u001b[0;34m\u001b[0m\u001b[0m\n\u001b[1;32m      6\u001b[0m \u001b[0;34m\u001b[0m\u001b[0m\n\u001b[0;32m----> 7\u001b[0;31m \u001b[0mray\u001b[0m\u001b[0;34m.\u001b[0m\u001b[0mget\u001b[0m\u001b[0;34m(\u001b[0m\u001b[0mdata\u001b[0m\u001b[0;34m)\u001b[0m\u001b[0;34m\u001b[0m\u001b[0;34m\u001b[0m\u001b[0m\n\u001b[0m",
      "\u001b[0;32m~/anaconda3/envs/TSCSProject/lib/python3.8/site-packages/ray/worker.py\u001b[0m in \u001b[0;36mget\u001b[0;34m(object_refs, timeout)\u001b[0m\n\u001b[1;32m   1426\u001b[0m                     \u001b[0mworker\u001b[0m\u001b[0;34m.\u001b[0m\u001b[0mcore_worker\u001b[0m\u001b[0;34m.\u001b[0m\u001b[0mdump_object_store_memory_usage\u001b[0m\u001b[0;34m(\u001b[0m\u001b[0;34m)\u001b[0m\u001b[0;34m\u001b[0m\u001b[0;34m\u001b[0m\u001b[0m\n\u001b[1;32m   1427\u001b[0m                 \u001b[0;32mif\u001b[0m \u001b[0misinstance\u001b[0m\u001b[0;34m(\u001b[0m\u001b[0mvalue\u001b[0m\u001b[0;34m,\u001b[0m \u001b[0mRayTaskError\u001b[0m\u001b[0;34m)\u001b[0m\u001b[0;34m:\u001b[0m\u001b[0;34m\u001b[0m\u001b[0;34m\u001b[0m\u001b[0m\n\u001b[0;32m-> 1428\u001b[0;31m                     \u001b[0;32mraise\u001b[0m \u001b[0mvalue\u001b[0m\u001b[0;34m.\u001b[0m\u001b[0mas_instanceof_cause\u001b[0m\u001b[0;34m(\u001b[0m\u001b[0;34m)\u001b[0m\u001b[0;34m\u001b[0m\u001b[0;34m\u001b[0m\u001b[0m\n\u001b[0m\u001b[1;32m   1429\u001b[0m                 \u001b[0;32melse\u001b[0m\u001b[0;34m:\u001b[0m\u001b[0;34m\u001b[0m\u001b[0;34m\u001b[0m\u001b[0m\n\u001b[1;32m   1430\u001b[0m                     \u001b[0;32mraise\u001b[0m \u001b[0mvalue\u001b[0m\u001b[0;34m\u001b[0m\u001b[0;34m\u001b[0m\u001b[0m\n",
      "\u001b[0;31mRayTaskError(AttributeError)\u001b[0m: \u001b[36mray::rollout_episode()\u001b[39m (pid=23772, ip=10.0.0.12)\n  File \"python/ray/_raylet.pyx\", line 484, in ray._raylet.execute_task\n  File \"<ipython-input-5-10e25df8a31e>\", line 4, in rollout_episode\n  File \"/home/tristan/anaconda3/envs/TSCSProject/lib/python3.8/site-packages/ray/actor.py\", line 804, in __getattr__\n    raise AttributeError(f\"'{type(self).__name__}' object has \"\nAttributeError: 'ActorHandle' object has no attribute 'episodeLength'"
     ]
    }
   ],
   "source": [
    "start_time = time.time()\n",
    "data = []\n",
    "for _ in range(5):\n",
    "    data.append(rollout_episode.remote(env))\n",
    "time.time() - start_time\n",
    "\n",
    "ray.get(data)"
   ]
  },
  {
   "cell_type": "code",
   "execution_count": null,
   "metadata": {},
   "outputs": [],
   "source": []
  },
  {
   "cell_type": "code",
   "execution_count": 84,
   "metadata": {},
   "outputs": [],
   "source": [
    "ray.shutdown()"
   ]
  },
  {
   "cell_type": "code",
   "execution_count": null,
   "metadata": {},
   "outputs": [],
   "source": []
  }
 ],
 "metadata": {
  "kernelspec": {
   "display_name": "Python 3",
   "language": "python",
   "name": "python3"
  },
  "language_info": {
   "codemirror_mode": {
    "name": "ipython",
    "version": 3
   },
   "file_extension": ".py",
   "mimetype": "text/x-python",
   "name": "python",
   "nbconvert_exporter": "python",
   "pygments_lexer": "ipython3",
   "version": "3.8.5"
  }
 },
 "nbformat": 4,
 "nbformat_minor": 4
}
