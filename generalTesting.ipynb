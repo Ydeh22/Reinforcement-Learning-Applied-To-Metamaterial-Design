{
 "cells": [
  {
   "cell_type": "code",
   "execution_count": 1,
   "metadata": {},
   "outputs": [],
   "source": [
    "from tscsRL.environments.RadiiTSCSEnv import DiscreteRadiiTSCSEnv, ContinuousRadiiTSCSEnv\n",
    "from tscsRL import utils\n",
    "from tscsRL.agents import ddqn, ddpg\n",
    "import matplotlib.pyplot as plt\n",
    "import torch\n",
    "import matlab"
   ]
  },
  {
   "cell_type": "code",
   "execution_count": 13,
   "metadata": {},
   "outputs": [],
   "source": [
    "## Name of the run we want to evaluate\n",
    "name = 'ddpgRadii_19cyl_1500decay'\n",
    "\n",
    "path = 'results/' + name\n",
    "env_params = utils.jsonToDict(path + '/env_params.json')\n",
    "agent_params = utils.jsonToDict(path + '/agent_params.json')\n",
    "\n",
    "## Change this environment to whatever one you need\n",
    "env = ContinuousRadiiTSCSEnv(\n",
    "    kMax=env_params['kMax'],\n",
    "    kMin=env_params['kMin'],\n",
    "    nFreq=env_params['nFreq'])\n",
    "\n",
    "## Make sure these parameters are set from the env_params\n",
    "env.ep_len = env_params['ep_len']\n",
    "env.grid_size = env_params['grid_size']\n",
    "\n",
    "## Change this to the correct agent you want to evaluate\n",
    "agent = ddpg.DDPGAgent(\n",
    "    env.observation_space,\n",
    "    env.action_space,\n",
    "    agent_params,\n",
    "    name)\n",
    "\n",
    "## Set exploration rate to low amount\n",
    "agent.noise_scale = 0.04\n",
    "\n",
    "## Load weights, specify checkpoint number\n",
    "agent.load_checkpoint(path + '/checkpoints/', 1350)"
   ]
  },
  {
   "cell_type": "code",
   "execution_count": 19,
   "metadata": {},
   "outputs": [
    {
     "name": "stdout",
     "output_type": "stream",
     "text": [
      "RESULTS:\n",
      "Initial radii: tensor([[0.4999, 0.7806, 0.4412, 0.6120, 0.3252, 0.8184, 0.3068, 0.6144, 0.6012,\n",
      "         0.9435, 0.8871, 0.5352, 0.9157, 0.5196, 0.3831, 0.6286, 0.8075, 0.4702,\n",
      "         0.4634]])\n",
      "Initial RMS: tensor([[2.2804]])\n",
      "Initial TSCS: tensor([[2.2824, 2.3022, 2.3141, 2.3185, 2.3161, 2.3073, 2.2931, 2.2740, 2.2511,\n",
      "         2.2250, 2.1969]])\n",
      "\n",
      "Min radii: tensor([[0.3805, 0.3849, 0.2520, 0.2685, 0.5426, 0.5591, 0.2642, 0.3000, 0.5243,\n",
      "         0.8717, 0.6661, 0.2862, 0.3473, 0.5173, 0.9150, 0.7972, 0.2938, 0.2874,\n",
      "         0.7070]], dtype=torch.float64)\n",
      "Min rms: tensor([[0.6636]])\n",
      "Min tscs: tensor([[0.6832, 0.6751, 0.6670, 0.6596, 0.6536, 0.6498, 0.6488, 0.6513, 0.6577,\n",
      "         0.6684, 0.6837]])\n"
     ]
    }
   ],
   "source": [
    "state = env.reset()\n",
    "done = False\n",
    "\n",
    "results = {\n",
    "    'radii': [],\n",
    "    'rms': [],\n",
    "    'tscs': []}\n",
    "\n",
    "while not done:\n",
    "    results['radii'].append(env.radii)\n",
    "    results['rms'].append(env.RMS)\n",
    "    results['tscs'].append(env.TSCS)\n",
    "\n",
    "    action = agent.select_action(state)\n",
    "    nextState, reward, done, info = env.step(action)\n",
    "\n",
    "    state = nextState\n",
    "\n",
    "## Initial stuff\n",
    "initialRadii = results['radii'][0]\n",
    "initialRMS = results['rms'][0]\n",
    "initialTSCS = results['tscs'][0]\n",
    "\n",
    "## Optimal stuff\n",
    "minIdx = results['rms'].index(min(results['rms']))\n",
    "optimalRadii = results['radii'][minIdx]\n",
    "optimalRMS = results['rms'][minIdx]\n",
    "optimalTSCS = results['tscs'][minIdx]\n",
    "\n",
    "print('RESULTS:')\n",
    "print(f'Initial radii: {initialRadii}')\n",
    "print(f'Initial RMS: {initialRMS}')\n",
    "print(f'Initial TSCS: {initialTSCS}')\n",
    "print()\n",
    "print(f'Min radii: {optimalRadii}')\n",
    "print(f'Min rms: {optimalRMS}')\n",
    "print(f'Min tscs: {optimalTSCS}')"
   ]
  },
  {
   "cell_type": "code",
   "execution_count": 20,
   "metadata": {},
   "outputs": [
    {
     "data": {
      "image/png": "[encoded data removed]",
      "text/plain": [
       "<Figure size 432x432 with 1 Axes>"
      ]
     },
     "metadata": {
      "needs_background": "light"
     },
     "output_type": "display_data"
    }
   ],
   "source": [
    "env.renderIMG(optimalRadii)"
   ]
  },
  {
   "cell_type": "code",
   "execution_count": null,
   "metadata": {},
   "outputs": [],
   "source": [
    "env2 = DiscreteRadiiTSCSEnv(\n",
    "    1,\n",
    "    0.001,\n",
    "    nFreq=100)\n",
    "\n",
    "env.ep_len = env_params['ep_len']\n",
    "env.grid_size = env_params['grid_size']"
   ]
  },
  {
   "cell_type": "code",
   "execution_count": null,
   "metadata": {},
   "outputs": [],
   "source": [
    "env2.setMetric(initialRadii)\n",
    "large_initial = env2.TSCS\n",
    "env2.setMetric(optimalRadii)\n",
    "large_final = env2.TSCS"
   ]
  },
  {
   "cell_type": "code",
   "execution_count": null,
   "metadata": {},
   "outputs": [],
   "source": [
    "x = env2.eng.transpose(matlab.double(*env2.center_config.tolist()))\n",
    "av = matlab.double([[1.6]])\n",
    "M = matlab.double([[1]])\n",
    "\n",
    "c_p = matlab.double([[env2.c_p]])\n",
    "rho_sh = matlab.double([[env2.rho_sh]])\n",
    "\n",
    "kMax = matlab.double([[1]])\n",
    "kMin = matlab.double([[0.001]])\n",
    "nFreq = matlab.double([[100]])\n",
    "\n",
    "tscs = torch.tensor(env2.eng.getMetric_thinShells_radii_material(x, M, av, c_p, rho_sh, kMax, kMin, nFreq)).T"
   ]
  },
  {
   "cell_type": "code",
   "execution_count": null,
   "metadata": {},
   "outputs": [],
   "source": [
    "plt.plot(large_initial[0])\n",
    "plt.plot(large_final[0])\n",
    "plt.plot(tscs[0])"
   ]
  },
  {
   "cell_type": "code",
   "execution_count": null,
   "metadata": {},
   "outputs": [],
   "source": []
  }
 ],
 "metadata": {
  "kernelspec": {
   "display_name": "Python 3",
   "language": "python",
   "name": "python3"
  },
  "language_info": {
   "codemirror_mode": {
    "name": "ipython",
    "version": 3
   },
   "file_extension": ".py",
   "mimetype": "text/x-python",
   "name": "python",
   "nbconvert_exporter": "python",
   "pygments_lexer": "ipython3",
   "version": "3.8.5"
  }
 },
 "nbformat": 4,
 "nbformat_minor": 4
}
